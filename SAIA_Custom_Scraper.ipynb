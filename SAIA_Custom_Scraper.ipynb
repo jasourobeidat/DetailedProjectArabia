{
  "nbformat": 4,
  "nbformat_minor": 0,
  "metadata": {
    "colab": {
      "name": "SAIA - Custom Scraper",
      "provenance": [],
      "collapsed_sections": [],
      "include_colab_link": true
    },
    "kernelspec": {
      "name": "python3",
      "display_name": "Python 3"
    }
  },
  "cells": [
    {
      "cell_type": "markdown",
      "metadata": {
        "id": "view-in-github",
        "colab_type": "text"
      },
      "source": [
        "<a href=\"https://colab.research.google.com/github/jasourobeidat/DetailedProjectArabia/blob/master/SAIA_Custom_Scraper.ipynb\" target=\"_parent\"><img src=\"https://colab.research.google.com/assets/colab-badge.svg\" alt=\"Open In Colab\"/></a>"
      ]
    },
    {
      "cell_type": "code",
      "metadata": {
        "id": "EjdtfRASrszn",
        "colab_type": "code",
        "colab": {}
      },
      "source": [
        "!pip install bs4"
      ],
      "execution_count": 0,
      "outputs": []
    },
    {
      "cell_type": "code",
      "metadata": {
        "id": "I-9sHRGYsAc8",
        "colab_type": "code",
        "colab": {}
      },
      "source": [
        "from bs4 import BeautifulSoup\n",
        "import requests"
      ],
      "execution_count": 0,
      "outputs": []
    },
    {
      "cell_type": "markdown",
      "metadata": {
        "id": "yJBHPaYKhEkn",
        "colab_type": "text"
      },
      "source": [
        "Collect list of Images"
      ]
    },
    {
      "cell_type": "code",
      "metadata": {
        "id": "RunhcM-3sfNz",
        "colab_type": "code",
        "colab": {}
      },
      "source": [
        "base_url = \"https://www.oldbookillustrations.com/subjects/people/page/\"\n",
        "#base_url = \"https://www.oldbookillustrations.com/subjects/people/animals/\"\n",
        "page_number = 1\n",
        "\n",
        "max_images = 400\n",
        "image_pages = []\n",
        "\n",
        "complete = False\n",
        "while(not complete):\n",
        "\n",
        "  page_url = \"{}{}/\".format(base_url, str(page_number))\n",
        "  r  = requests.get(page_url)\n",
        "\n",
        "  if r.status_code != 200:\n",
        "    print(\"{} : Error retrieveing {}\".format(r.status_code, page_url))\n",
        "    break\n",
        "\n",
        "  soup = BeautifulSoup(r.text)\n",
        "\n",
        "  figure_elements = soup.find_all(\"figure\")\n",
        "  for figure_element in figure_elements:\n",
        "    if(len(image_pages) < max_images):\n",
        "      image_pages.append(figure_element.a['href'])\n",
        "    else:\n",
        "      complete = True\n",
        "      break\n",
        "\n",
        "  page_number = page_number +1\n",
        "\n",
        "print(\"{} images found\".format(len(image_pages)))"
      ],
      "execution_count": 0,
      "outputs": []
    },
    {
      "cell_type": "markdown",
      "metadata": {
        "id": "ln5eizeUhU8M",
        "colab_type": "text"
      },
      "source": [
        "Download and Save"
      ]
    },
    {
      "cell_type": "code",
      "metadata": {
        "id": "Kw6YtlVPxk1G",
        "colab_type": "code",
        "colab": {}
      },
      "source": [
        "from PIL import Image\n",
        "from io  import BytesIO\n",
        "import os\n",
        "\n",
        "OUTPUT_PATH = \"Images\"\n",
        "os.makedirs(OUTPUT_PATH, exist_ok = True)\n",
        "\n",
        "\n",
        "for i, img_page in enumerate(image_pages):\n",
        "  r  = requests.get(img_page)\n",
        "  if r.status_code != 200:\n",
        "    print(\"{} : Error retrieveing {}\".format(r.status_code, page_url))\n",
        "\n",
        "  soup = BeautifulSoup(r.text)\n",
        "  dl_list = soup.find('p', id='highres-dld').find_all('a')\n",
        "  for dl in dl_list:\n",
        "    if(dl.contents[0] == \"768 px\"):\n",
        "      url = dl[\"href\"]\n",
        "      image_url = \"https://www.oldbookillustrations.com\" + url\n",
        "      response = requests.get(image_url)\n",
        "      img = Image.open(BytesIO(response.content))\n",
        "      img_path = \"image_{:04d}.jpg\".format(i)\n",
        "      img.save(os.path.join(OUTPUT_PATH, img_path))\n",
        "\n",
        "      print(\"Saving... {}\".format(img_path))\n",
        "      break\n"
      ],
      "execution_count": 0,
      "outputs": []
    },
    {
      "cell_type": "code",
      "metadata": {
        "id": "WY2A-WEP5BUd",
        "colab_type": "code",
        "colab": {}
      },
      "source": [
        "from google.colab import drive\n",
        "drive.mount('/content/gdrive')"
      ],
      "execution_count": 0,
      "outputs": []
    },
    {
      "cell_type": "code",
      "metadata": {
        "id": "jp0vOoLr5NKf",
        "colab_type": "code",
        "colab": {}
      },
      "source": [
        "!zip -r images.zip /content/Images"
      ],
      "execution_count": 0,
      "outputs": []
    },
    {
      "cell_type": "code",
      "metadata": {
        "id": "Ag5z0XOw5SXu",
        "colab_type": "code",
        "colab": {}
      },
      "source": [
        "!mkdir -p \"/content/gdrive/My Drive/Other Projects/SAIA Course/Scraped_images\"\n",
        "!cp -rf /content/images.zip \"/content/gdrive/My Drive/Other Projects/SAIA Course/Scraped_images\""
      ],
      "execution_count": 0,
      "outputs": []
    }
  ]
}