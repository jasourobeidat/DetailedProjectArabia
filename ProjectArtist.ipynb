{
  "nbformat": 4,
  "nbformat_minor": 0,
  "metadata": {
    "colab": {
      "name": "104PArabiaCore.ipynb",
      "provenance": [],
      "collapsed_sections": [],
      "mount_file_id": "1Sn8U1H3nVAs81Z9Qh_2FY91DVTXxWvlj",
      "authorship_tag": "ABX9TyPO9Tgk92RH2EwXAv5qDouY",
      "include_colab_link": true
    },
    "kernelspec": {
      "name": "python3",
      "display_name": "Python 3"
    },
    "accelerator": "GPU"
  },
  "cells": [
    {
      "cell_type": "markdown",
      "metadata": {
        "id": "view-in-github",
        "colab_type": "text"
      },
      "source": [
        "<a href=\"https://colab.research.google.com/github/jasourobeidat/DetailedProjectArabia/blob/master/ProjectArtist.ipynb\" target=\"_parent\"><img src=\"https://colab.research.google.com/assets/colab-badge.svg\" alt=\"Open In Colab\"/></a>"
      ]
    },
    {
      "cell_type": "code",
      "metadata": {
        "id": "JGnrZfYQW7_F",
        "colab_type": "code",
        "colab": {}
      },
      "source": [
        "from random import randint, random\n",
        "from pathlib import Path\n",
        "import os\n",
        "from pydrive.auth import GoogleAuth\n",
        "from pydrive.drive import GoogleDrive\n",
        "from google.colab import auth\n",
        "from oauth2client.client import GoogleCredentials\n",
        "from scipy.stats import truncnorm\n",
        "from PIL import Image\n",
        "import numpy as np\n"
      ],
      "execution_count": 0,
      "outputs": []
    },
    {
      "cell_type": "code",
      "metadata": {
        "id": "B11xODDQXBvy",
        "colab_type": "code",
        "colab": {}
      },
      "source": [
        "def replace_color(image, color, target):\n",
        "    data = np.array(image)   # \"data\" is a height x width x 4 numpy array\n",
        "    r, g, b = color\n",
        "    red, green, blue, alpha = data.T\n",
        "    areas = (red == r) & (blue == g) & (green == b)\n",
        "    data[..., :-1][areas.T] = target # Transpose back needed\n",
        "    return Image.fromarray(data)\n"
      ],
      "execution_count": 0,
      "outputs": []
    },
    {
      "cell_type": "code",
      "metadata": {
        "id": "1fb8ha3SXEsx",
        "colab_type": "code",
        "outputId": "782a4551-9b53-456c-c93e-a2ac2c171bde",
        "colab": {
          "base_uri": "https://localhost:8080/",
          "height": 231
        }
      },
      "source": [
        "root = os.path.expanduser('~/My Drive/ProjectArabiaNewCode')\n",
        "\n",
        "alphabets = []\n",
        "for file in root.iterdir():\n",
        "    image = Image.open(file)\n",
        "    alphabets.append(image)\n",
        "\n",
        "\n",
        "canvas = Image.new('RGBA', (1024, 1024), (255, 255, 255, 255))"
      ],
      "execution_count": 0,
      "outputs": [
        {
          "output_type": "error",
          "ename": "AttributeError",
          "evalue": "ignored",
          "traceback": [
            "\u001b[0;31m---------------------------------------------------------------------------\u001b[0m",
            "\u001b[0;31mAttributeError\u001b[0m                            Traceback (most recent call last)",
            "\u001b[0;32m<ipython-input-8-13646e29654c>\u001b[0m in \u001b[0;36m<module>\u001b[0;34m()\u001b[0m\n\u001b[1;32m      2\u001b[0m \u001b[0;34m\u001b[0m\u001b[0m\n\u001b[1;32m      3\u001b[0m \u001b[0malphabets\u001b[0m \u001b[0;34m=\u001b[0m \u001b[0;34m[\u001b[0m\u001b[0;34m]\u001b[0m\u001b[0;34m\u001b[0m\u001b[0;34m\u001b[0m\u001b[0m\n\u001b[0;32m----> 4\u001b[0;31m \u001b[0;32mfor\u001b[0m \u001b[0mfile\u001b[0m \u001b[0;32min\u001b[0m \u001b[0mroot\u001b[0m\u001b[0;34m.\u001b[0m\u001b[0miterdir\u001b[0m\u001b[0;34m(\u001b[0m\u001b[0;34m)\u001b[0m\u001b[0;34m:\u001b[0m\u001b[0;34m\u001b[0m\u001b[0;34m\u001b[0m\u001b[0m\n\u001b[0m\u001b[1;32m      5\u001b[0m     \u001b[0mimage\u001b[0m \u001b[0;34m=\u001b[0m \u001b[0mImage\u001b[0m\u001b[0;34m.\u001b[0m\u001b[0mopen\u001b[0m\u001b[0;34m(\u001b[0m\u001b[0mfile\u001b[0m\u001b[0;34m)\u001b[0m\u001b[0;34m\u001b[0m\u001b[0;34m\u001b[0m\u001b[0m\n\u001b[1;32m      6\u001b[0m     \u001b[0malphabets\u001b[0m\u001b[0;34m.\u001b[0m\u001b[0mappend\u001b[0m\u001b[0;34m(\u001b[0m\u001b[0mimage\u001b[0m\u001b[0;34m)\u001b[0m\u001b[0;34m\u001b[0m\u001b[0;34m\u001b[0m\u001b[0m\n",
            "\u001b[0;31mAttributeError\u001b[0m: 'str' object has no attribute 'iterdir'"
          ]
        }
      ]
    },
    {
      "cell_type": "code",
      "metadata": {
        "id": "YodlB-dOXKPY",
        "colab_type": "code",
        "colab": {}
      },
      "source": [
        "for _ in range(60):\n",
        "    image = alphabets[randint(0, len(alphabets) - 1)].copy()\n",
        "\n",
        "    image = replace_color(image, (0, 0, 0), (int(random() * 255), int(random() * 255), int(random() * 255)))\n",
        "    image = image.rotate(random() * 360, expand=True)\n",
        "\n",
        "    w, h = image.size\n",
        "    aspect = w / h\n",
        "    new_w = w * (random() * 1.5 + 0.5)\n",
        "    new_h = new_w / aspect\n",
        "    image = image.resize((int(new_w), int(new_h)))\n",
        "\n",
        "    cw, ch = canvas.size\n",
        "\n",
        "    f = 0.75\n",
        "    mw = cw * (1 - f) / 2\n",
        "    mh = ch * (1 - f) / 2\n",
        "    x = (truncnorm.rvs(-1, 1, loc=0, scale=1) + 1) / 2 * cw / 2 + mw\n",
        "    y = (truncnorm.rvs(-1, 1, loc=0, scale=1) + 1) / 2 * ch / 2 + mh\n",
        "    canvas.paste(image, (int(x), int(y)), image)\n"
      ],
      "execution_count": 0,
      "outputs": []
    },
    {
      "cell_type": "code",
      "metadata": {
        "id": "gNRS02VIXMfI",
        "colab_type": "code",
        "colab": {}
      },
      "source": [
        "canvas.show()\n",
        "image=image.convert(\"RGB\")\n",
        "image.save(\"test.jpg\")"
      ],
      "execution_count": 0,
      "outputs": []
    }
  ]
}